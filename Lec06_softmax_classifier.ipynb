{
 "cells": [
  {
   "cell_type": "code",
   "execution_count": 1,
   "metadata": {},
   "outputs": [
    {
     "name": "stderr",
     "output_type": "stream",
     "text": [
      "C:\\ProgramData\\Anaconda3\\envs\\Pytorch\\lib\\site-packages\\torch\\nn\\modules\\container.py:92: UserWarning: Implicit dimension choice for softmax has been deprecated. Change the call to include dim=X as an argument.\n",
      "  input = module(input)\n"
     ]
    },
    {
     "name": "stdout",
     "output_type": "stream",
     "text": [
      "0 2.3687892\n",
      "200 0.54633194\n",
      "400 0.45158783\n",
      "600 0.37642628\n",
      "800 0.3045039\n",
      "1000 0.24127787\n",
      "1200 0.21791302\n",
      "1400 0.19881804\n",
      "1600 0.18269487\n",
      "1800 0.16890593\n",
      "2000 0.15698554\n",
      "--------------\n",
      "[[7.6587126e-03 9.9233162e-01 9.6463318e-06]] [1]\n",
      "--------------\n",
      "[[0.8280994  0.15501583 0.01688474]] [0]\n",
      "--------------\n",
      "[[1.3566267e-08 3.5338957e-04 9.9964654e-01]] [2]\n",
      "--------------\n",
      "[[7.6587126e-03 9.9233162e-01 9.6463318e-06]\n",
      " [8.2809943e-01 1.5501583e-01 1.6884739e-02]\n",
      " [1.3566267e-08 3.5338957e-04 9.9964654e-01]] [1 0 2]\n"
     ]
    }
   ],
   "source": [
    "import torch\n",
    "from torch.autograd import Variable\n",
    "\n",
    "torch.manual_seed(777)\n",
    "\n",
    "x_data = [[1, 2, 1, 1], [2, 1, 3, 2], [3, 1, 3, 4], [4, 1, 5, 5], [1, 7, 5, 5], [1, 2, 5, 6], [1, 6, 6, 6], [1, 7, 7, 7]]\n",
    "y_data = [[0, 0, 1], [0, 0, 1], [0, 0, 1], [0, 1, 0],[0, 1, 0], [0, 1, 0], [1, 0, 0], [1, 0, 0]]\n",
    "\n",
    "X = Variable(torch.Tensor(x_data))\n",
    "Y = Variable(torch.Tensor(y_data))\n",
    "nb_classes = 3\n",
    "\n",
    "softmax = torch.nn.Softmax()\n",
    "linear = torch.nn.Linear(4,nb_classes, bias = True)\n",
    "model = torch.nn.Sequential(linear, softmax)\n",
    "\n",
    "optimizer = torch.optim.SGD(model.parameters(), lr = 0.1)\n",
    "\n",
    "for step in range(2001):\n",
    "    optimizer.zero_grad()\n",
    "    hypothesis = model(X)\n",
    "    cost = -Y*torch.log(hypothesis)\n",
    "    cost = torch.sum(cost, 1).mean()\n",
    "    cost.backward()\n",
    "    optimizer.step()\n",
    "    \n",
    "    if step % 200 == 0:\n",
    "        print(step, cost.data.numpy())\n",
    "        \n",
    "print('--------------')\n",
    "a = model(Variable(torch.Tensor([[1,11,7,9]])))\n",
    "print(a.data.numpy(), torch.max(a,1)[1].data.numpy())\n",
    "\n",
    "print('--------------')\n",
    "b = model(Variable(torch.Tensor([[1, 3, 4, 3]])))\n",
    "print(b.data.numpy(), torch.max(b, 1)[1].data.numpy())\n",
    "\n",
    "print('--------------')\n",
    "c = model(Variable(torch.Tensor([[1, 1, 0, 1]])))\n",
    "print(c.data.numpy(), torch.max(c, 1)[1].data.numpy())\n",
    "\n",
    "print('--------------')\n",
    "all = model(Variable(torch.Tensor([[1, 11, 7, 9], [1, 3, 4, 3], [1, 1, 0, 1]])))\n",
    "print(all.data.numpy(), torch.max(all, 1)[1].data.numpy())"
   ]
  },
  {
   "cell_type": "code",
   "execution_count": null,
   "metadata": {},
   "outputs": [],
   "source": []
  }
 ],
 "metadata": {
  "kernelspec": {
   "display_name": "Python 3",
   "language": "python",
   "name": "python3"
  },
  "language_info": {
   "codemirror_mode": {
    "name": "ipython",
    "version": 3
   },
   "file_extension": ".py",
   "mimetype": "text/x-python",
   "name": "python",
   "nbconvert_exporter": "python",
   "pygments_lexer": "ipython3",
   "version": "3.6.8"
  }
 },
 "nbformat": 4,
 "nbformat_minor": 2
}
